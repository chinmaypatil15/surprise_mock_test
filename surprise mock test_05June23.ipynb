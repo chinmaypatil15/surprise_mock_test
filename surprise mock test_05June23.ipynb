{
 "cells": [
  {
   "cell_type": "code",
   "execution_count": 1,
   "id": "35c411d9",
   "metadata": {},
   "outputs": [
    {
     "name": "stdout",
     "output_type": "stream",
     "text": [
      "[1, 3, 12, 0, 0]\n",
      "[0]\n"
     ]
    }
   ],
   "source": [
    "def moveZero(nums):\n",
    "    i = 0\n",
    "    j = 0\n",
    "    # Iterate through the array\n",
    "    while i < len(nums):\n",
    "        if nums[i] != 0:\n",
    "            nums[j] = nums[i]\n",
    "            j += 1\n",
    "        i += 1\n",
    "    while j < len(nums):\n",
    "        nums[j] = 0\n",
    "        j += 1\n",
    "\n",
    "nums1 = [0, 1, 0, 3, 12]\n",
    "moveZero(nums1)\n",
    "print(nums1)\n",
    "\n",
    "nums2 = [0]\n",
    "moveZero(nums2)\n",
    "print(nums2)\n"
   ]
  },
  {
   "cell_type": "code",
   "execution_count": 2,
   "id": "35afa3cf",
   "metadata": {},
   "outputs": [
    {
     "name": "stdout",
     "output_type": "stream",
     "text": [
      "0\n",
      "2\n",
      "-1\n"
     ]
    }
   ],
   "source": [
    "def UniqChar(s):\n",
    "    freq = {}\n",
    "    for char in s:\n",
    "        if char in freq:\n",
    "            freq[char] += 1\n",
    "        else:\n",
    "            freq[char] = 1\n",
    "\n",
    "# Find the first non-repeating character\n",
    "    for i in range(len(s)):\n",
    "        if freq[s[i]] == 1:\n",
    "            return i\n",
    "    return -1  # If no non-repeating character found, return -1\n",
    "\n",
    "# Test the function with the given examples\n",
    "s1 = \"leetcode\"\n",
    "print(UniqChar(s1))\n",
    "\n",
    "s2 = \"loveleetcode\"\n",
    "print(UniqChar(s2))\n",
    "\n",
    "s3 = \"aabb\"\n",
    "print(UniqChar(s3))\n"
   ]
  },
  {
   "cell_type": "code",
   "execution_count": null,
   "id": "2d3d2b2b",
   "metadata": {},
   "outputs": [],
   "source": []
  }
 ],
 "metadata": {
  "kernelspec": {
   "display_name": "Python 3 (ipykernel)",
   "language": "python",
   "name": "python3"
  },
  "language_info": {
   "codemirror_mode": {
    "name": "ipython",
    "version": 3
   },
   "file_extension": ".py",
   "mimetype": "text/x-python",
   "name": "python",
   "nbconvert_exporter": "python",
   "pygments_lexer": "ipython3",
   "version": "3.9.12"
  }
 },
 "nbformat": 4,
 "nbformat_minor": 5
}
